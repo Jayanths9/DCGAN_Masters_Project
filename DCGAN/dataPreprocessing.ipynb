{
 "cells": [
  {
   "cell_type": "code",
   "execution_count": 2,
   "metadata": {},
   "outputs": [],
   "source": [
    "import os       # os to read file from directories\n",
    "import cv2      # cv2 for performing operations on image"
   ]
  },
  {
   "cell_type": "code",
   "execution_count": 3,
   "metadata": {},
   "outputs": [],
   "source": [
    " # function to foreground segmentation from instance segmentation, crop the segmentation image to 1536 X 1536 and save to folder\n",
    "def segmentation(filelocation,filename,masklocation,maskname,savelocation):\n",
    "    # read the original image\n",
    "    original=cv2.imread(f'{filelocation}/{filename}')\n",
    "    # read the instance segmentation image\n",
    "    mask=cv2.imread(f'{masklocation}/{maskname}')\n",
    "    # convert the instance segmentation image to \n",
    "    temp=cv2.cvtColor(mask, cv2.COLOR_BGR2GRAY)\n",
    "    # bitwise multiply gray scale image and original image to obtain foreground segmentation of the image\n",
    "    img=cv2.bitwise_and(original,original, mask=temp)\n",
    "    # crop the foreground segmentation image to 1536 x 1536 \n",
    "    img_corp=img[0:1536,512:2048]\n",
    "    # save the cropped image to folder\n",
    "    cv2.imwrite(f\"{savelocation}/seg_{filename}\",img_corp)\n",
    "\n",
    "# function to augment the corpped image and save to specified folder\n",
    "def augmentation(filelocation,filename,savelocation):\n",
    "    # read the cropped image\n",
    "    original=cv2.imread(f'{filelocation}/{filename}')\n",
    "    # rotate the image 90 degree clockwise\n",
    "    original_90= cv2.rotate(original, cv2.ROTATE_90_CLOCKWISE)\n",
    "    # rotate the image 180 degree clockwise\n",
    "    original_180= cv2.rotate(original, cv2.ROTATE_180)\n",
    "    # rotate the image 90 degree counter clockwise\n",
    "    original_270= cv2.rotate(original, cv2.ROTATE_90_COUNTERCLOCKWISE)\n",
    "    #  flip the image w.r.to x-axis\n",
    "    original_x= cv2.flip(original, 0)\n",
    "    # flip the image w.r.to y-axis\n",
    "    original_y= cv2.flip(original, 1)\n",
    "\n",
    "    # save all images to specified folder\n",
    "    cv2.imwrite(f\"{savelocation}/90_{filename}\",original_90)\n",
    "    cv2.imwrite(f\"{savelocation}/180_{filename}\",original_180)\n",
    "    cv2.imwrite(f\"{savelocation}/270_{filename}\",original_270)\n",
    "    cv2.imwrite(f\"{savelocation}/x_{filename}\",original_x)\n",
    "    cv2.imwrite(f\"{savelocation}/y_{filename}\",original_y)\n",
    "\n",
    "# foreground segmentation based on color\n",
    "def hsv_segmentation(filelocation,filename,savelocation):\n",
    "    # read the original image\n",
    "    original=cv2.imread(f'{filelocation}/{filename}')\n",
    "    # blur the images to smoothen the edges\n",
    "    blur=cv2.blur(original,(10,10))\n",
    "    # convert the image form RGB scale to HSV scale\n",
    "    hsv = cv2.cvtColor(blur, cv2.COLOR_BGR2HSV)\n",
    "    # extract the mask of the object  in the image based on colour range\n",
    "    mask = cv2.inRange(hsv,(8,0,0), (110,255,255))\n",
    "    # bitwise multiply the mask and original image\n",
    "    final_image = cv2.bitwise_and(original, original, mask=mask)\n",
    "    # save the final image to folder\n",
    "    cv2.imwrite(f\"{savelocation}/hsv_{filename}\",final_image)\n",
    "\n",
    "#function to view image loaded into cv2\n",
    "def viewImage(filename):\n",
    "    # resize the image\n",
    "    img=cv2.resize(filename,(1200,800))\n",
    "    #destroy all previous windows\n",
    "    cv2.destroyAllWindows()\n",
    "    # show the the image\n",
    "    cv2.imshow(\"\",img)\n",
    "    # press any key to close the window\n",
    "    cv2.waitKey(0)\n",
    "\n",
    "# function to view image from file location\n",
    "def viewFile(filelocation):\n",
    "    #read the image file\n",
    "    file=cv2.imread(filelocation)\n",
    "    #resize the image file\n",
    "    img=cv2.resize(file,(1200,800))\n",
    "    #destroy all open windows\n",
    "    cv2.destroyAllWindows()\n",
    "    #display the image\n",
    "    cv2.imshow(\"\",img)\n",
    "    # press any key to close the window\n",
    "    cv2.waitKey(0)"
   ]
  },
  {
   "cell_type": "code",
   "execution_count": null,
   "metadata": {},
   "outputs": [],
   "source": [
    "# to convert all image and make a data set, iterate the images in for loop \n",
    "filelocation=''     # original uncorpped image folder\n",
    "masklocation=''     # instance segmentation images of the original images\n",
    "croppedImage=''     # save the cropped images to this location\n",
    "dataset=''          # save the augemented images in this folder and use later for trainig\n",
    "hsv=''              # save the images from hsv_segmentations\n",
    "\n",
    "filenames=os.listdir(filelocation)      # obtain names of all original images in folder as a list\n",
    "masklocations=os.listdir(masklocation)  # obtain names of all instance segmentation images in folder as a list\n",
    "croppedimages=os.listdir(croppedImage)  # obatin names of all cropped images in folder as a list\n",
    "\n",
    "\n",
    "# loop to segment and crop the original images\n",
    "for i,j in filenames,masklocations:\n",
    "    segmentation(filelocation,i,masklocation,j,croppedImage)\n",
    "\n",
    "# loop to augment all cropped image to create dataset\n",
    "for i in croppedImage:\n",
    "    augmentation(i,dataset)\n",
    "\n",
    "# loop to hsv_segmentation original images and save in folder\n",
    "for i in filanames:\n",
    "    hsv_segmentation(filelocation,filename,hsv)\n",
    "\n"
   ]
  },
  {
   "cell_type": "code",
   "execution_count": 20,
   "metadata": {},
   "outputs": [],
   "source": [
    "original=cv2.imread('imageProcessing/original.png')\n",
    "blur=cv2.blur(original,(20,20))\n",
    "hsv = cv2.cvtColor(blur, cv2.COLOR_BGR2HSV)\n",
    "mask = cv2.inRange(hsv,(8,0,0), (110,255,255))\n",
    "final_image = cv2.bitwise_and(original, original, mask=mask)"
   ]
  },
  {
   "cell_type": "code",
   "execution_count": 21,
   "metadata": {},
   "outputs": [],
   "source": [
    "viewImage(final_image)"
   ]
  },
  {
   "cell_type": "code",
   "execution_count": 6,
   "metadata": {},
   "outputs": [],
   "source": [
    "viewImage(mask)"
   ]
  }
 ],
 "metadata": {
  "kernelspec": {
   "display_name": "base",
   "language": "python",
   "name": "python3"
  },
  "language_info": {
   "codemirror_mode": {
    "name": "ipython",
    "version": 3
   },
   "file_extension": ".py",
   "mimetype": "text/x-python",
   "name": "python",
   "nbconvert_exporter": "python",
   "pygments_lexer": "ipython3",
   "version": "3.10.12"
  },
  "orig_nbformat": 4
 },
 "nbformat": 4,
 "nbformat_minor": 2
}
